{
 "cells": [
  {
   "attachments": {},
   "cell_type": "markdown",
   "metadata": {},
   "source": [
    "## Задача\n",
    "\n",
    "Продакт на главной mail.ru решил протестировать в рекомендательной ленте контента вместо карточек со статьями видеоплеер с короткими видео. Нынешний таймспент на юзера в день в среднем равен 25 минут, а стандартная ошибка (SD) равна 156. Мы предполагаем, что в новой версии таймспент на юзера в день изменится на 10%. Средний трафик 20000 человек в день. Посчитайте сколько дней необходимо держать эксперимент при alpha = 5% и beta = 20% .\n",
    "\n",
    "Наша продуктовая команда в ecommerce магазине планирует запустить тест, направленный на ускорение загрузки сайта. Одна из основных метрик bounce rate в GA = 40%. Мы предполагаем, что при оптимизации сайта она изменится минимум на 20%.Средний трафик 4000 человек в день. Посчитайте сколько нам нужно дней держать эксперимент при alpha = 5% и beta = 20%"
   ]
  },
  {
   "attachments": {},
   "cell_type": "markdown",
   "metadata": {},
   "source": [
    "### Эксперимент с видеоплеером на mail.ru:"
   ]
  },
  {
   "cell_type": "code",
   "execution_count": 7,
   "metadata": {},
   "outputs": [
    {
     "name": "stdout",
     "output_type": "stream",
     "text": [
      "Для эксперимента с видеоплеером потребуется держать его активным в течение 2 дня.\n"
     ]
    }
   ],
   "source": [
    "import math\n",
    "\n",
    "# Известные значения\n",
    "current_time_spent = 25  # текущий таймспент на пользователя в минутах\n",
    "sd = 156  # стандартное отклонение\n",
    "expected_change = 0.10  # ожидаемое изменение таймспента (10%)\n",
    "traffic_per_day = 20000  # средний трафик в день\n",
    "\n",
    "# Значения Z-критериев для уровней значимости alpha/2 и beta\n",
    "z_alpha_2 = 1.96\n",
    "z_beta = 0.84\n",
    "\n",
    "# Расчет размера выборки\n",
    "n = ((2 * (z_alpha_2 + z_beta)**2 * sd**2) / expected_change**2) * (1 / traffic_per_day)\n",
    "\n",
    "# Расчет количества дней\n",
    "days_required = math.ceil(n / (60 * current_time_spent))  # Переводим минуты в часы (примерное время взаимодействия с видео)\n",
    "\n",
    "print(f\"Для эксперимента с видеоплеером потребуется держать его активным в течение {days_required} дня.\")\n"
   ]
  },
  {
   "attachments": {},
   "cell_type": "markdown",
   "metadata": {},
   "source": [
    "### Эксперимент с ускорением загрузки сайта в ecommerce магазине:"
   ]
  },
  {
   "cell_type": "code",
   "execution_count": 6,
   "metadata": {},
   "outputs": [
    {
     "name": "stdout",
     "output_type": "stream",
     "text": [
      "Для эксперимента с ускорением загрузки сайта потребуется держать его оптимизированным в течение 1 день.\n"
     ]
    }
   ],
   "source": [
    "import math\n",
    "\n",
    "# Известные значения\n",
    "current_bounce_rate = 0.40  # текущий bounce rate\n",
    "expected_change = 0.20  # ожидаемое изменение bounce rate (уменьшение на 20%)\n",
    "traffic_per_day = 4000  # средний трафик в день\n",
    "\n",
    "# Значения Z-критериев для уровней значимости alpha/2 и beta\n",
    "z_alpha_2 = 1.96\n",
    "z_beta = 0.84\n",
    "\n",
    "# Расчет размера выборки\n",
    "n = ((2 * (z_alpha_2 + z_beta)**2 * current_bounce_rate * (1 - current_bounce_rate)) / expected_change**2) * (1 / traffic_per_day)\n",
    "\n",
    "# Расчет количества дней\n",
    "days_required = math.ceil(n)\n",
    "\n",
    "print(f\"Для эксперимента с ускорением загрузки сайта потребуется держать его оптимизированным в течение {days_required} день.\")\n"
   ]
  }
 ],
 "metadata": {
  "kernelspec": {
   "display_name": "Python 3",
   "language": "python",
   "name": "python3"
  },
  "language_info": {
   "codemirror_mode": {
    "name": "ipython",
    "version": 3
   },
   "file_extension": ".py",
   "mimetype": "text/x-python",
   "name": "python",
   "nbconvert_exporter": "python",
   "pygments_lexer": "ipython3",
   "version": "3.10.0"
  },
  "orig_nbformat": 4
 },
 "nbformat": 4,
 "nbformat_minor": 2
}
