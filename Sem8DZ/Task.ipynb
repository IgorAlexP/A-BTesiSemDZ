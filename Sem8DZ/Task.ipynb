{
 "cells": [
  {
   "cell_type": "markdown",
   "metadata": {},
   "source": [
    "### Условие задачи\n",
    "\n",
    "На сайте запущен А/В тест с целью увеличить доход. В приложенном excel файле вы найдете сырые данные по результатам эксперимента – user_id, тип выборки variant_name и доход принесенный пользователем revenue.\n",
    "Проанализируйте результаты эксперимента и напишите свои рекомендации менеджеру."
   ]
  },
  {
   "cell_type": "markdown",
   "metadata": {},
   "source": [
    "Чтобы првести анализ данных я разбил процедуру на несколько этапов:\n",
    "1. Обзор данных:\n",
    "* Общее количество пользователей в группах \"variant\" и \"control\".\n",
    "* Общий доход, сгенерированный обеими группами.\n",
    "2. Расчет метрик:\n",
    "* Конверсионная ставка: процент пользователей, сгенерировавших доход (revenue > 0) в каждой группе.\n",
    "* Средний доход на пользователя: средний доход, сгенерированный каждой группой.\n",
    "3. Статистический анализ:\n",
    "* Проведем статистический тест гипотезы (например, t-тест), чтобы проверить, есть ли значимая разница между доходом в группах \"variant\" и \"control\".\n",
    "Рекомендации:"
   ]
  },
  {
   "cell_type": "code",
   "execution_count": 1,
   "metadata": {},
   "outputs": [
    {
     "name": "stdout",
     "output_type": "stream",
     "text": [
      "Общий доход (вариант): 351.47\n",
      "Общий доход (контроль): 643.0\n",
      "Количество пользователей (вариант): 3934\n",
      "Количество пользователей (контроль): 3931\n",
      "Конверсионная ставка (вариант): 0.014354066985645933\n",
      "Конверсионная ставка (контроль): 0.016051364365971106\n",
      "Средний доход на пользователя (вариант): 0.08934163701067617\n",
      "Средний доход на пользователя (контроль): 0.16357161027728315\n"
     ]
    },
    {
     "name": "stderr",
     "output_type": "stream",
     "text": [
      "c:\\Users\\clic\\AppData\\Local\\Programs\\Python\\Python310\\lib\\site-packages\\openpyxl\\worksheet\\_reader.py:329: UserWarning: Unknown extension is not supported and will be removed\n",
      "  warn(msg)\n"
     ]
    }
   ],
   "source": [
    "import pandas as pd\n",
    "\n",
    "# Предположим, что данные загружены в DataFrame pandas с именем 'data'\n",
    "# Замените 'путь_к_файлу.xlsx' на фактический путь к файлу, если данные загружаются из файла.\n",
    "\n",
    "# Загрузим данные из Excel-файла\n",
    "data = pd.read_excel('C:/Users/clic/OneDrive/Рабочий стол/Stud/A.B.Test/Sem8DZ/AB_Test_Results (2).xlsx')\n",
    "\n",
    "\n",
    "# Рассчитаем общий доход для каждой группы\n",
    "total_revenue_variant = data[data['VARIANT_NAME'] == 'variant']['REVENUE'].sum()\n",
    "total_revenue_control = data[data['VARIANT_NAME'] == 'control']['REVENUE'].sum()\n",
    "\n",
    "# Рассчитаем общее количество пользователей в каждой группе\n",
    "total_users_variant = data[data['VARIANT_NAME'] == 'variant']['USER_ID'].nunique()\n",
    "total_users_control = data[data['VARIANT_NAME'] == 'control']['USER_ID'].nunique()\n",
    "\n",
    "# Рассчитаем конверсионную ставку для каждой группы\n",
    "conversion_rate_variant = (data[data['VARIANT_NAME'] == 'variant']['REVENUE'] > 0).mean()\n",
    "conversion_rate_control = (data[data['VARIANT_NAME'] == 'control']['REVENUE'] > 0).mean()\n",
    "\n",
    "# Рассчитаем средний доход на пользователя для каждой группы\n",
    "average_revenue_per_user_variant = total_revenue_variant / total_users_variant\n",
    "average_revenue_per_user_control = total_revenue_control / total_users_control\n",
    "\n",
    "# Выведем результаты\n",
    "print(\"Общий доход (вариант):\", total_revenue_variant)\n",
    "print(\"Общий доход (контроль):\", total_revenue_control)\n",
    "print(\"Количество пользователей (вариант):\", total_users_variant)\n",
    "print(\"Количество пользователей (контроль):\", total_users_control)\n",
    "print(\"Конверсионная ставка (вариант):\", conversion_rate_variant)\n",
    "print(\"Конверсионная ставка (контроль):\", conversion_rate_control)\n",
    "print(\"Средний доход на пользователя (вариант):\", average_revenue_per_user_variant)\n",
    "print(\"Средний доход на пользователя (контроль):\", average_revenue_per_user_control)\n"
   ]
  },
  {
   "cell_type": "markdown",
   "metadata": {},
   "source": [
    "Для сравнения статистической значимости различий между группами варианта и контроля, можно использовать t-тест. Этот тест позволит определить, являются ли различия между средними значениями метрик статистически значимыми."
   ]
  },
  {
   "cell_type": "code",
   "execution_count": 2,
   "metadata": {},
   "outputs": [
    {
     "name": "stdout",
     "output_type": "stream",
     "text": [
      "Различие в среднем доходе на пользователя не является статистически значимым.\n"
     ]
    },
    {
     "name": "stderr",
     "output_type": "stream",
     "text": [
      "C:\\Users\\clic\\AppData\\Local\\Temp\\ipykernel_240\\592472134.py:14: RuntimeWarning: Precision loss occurred in moment calculation due to catastrophic cancellation. This occurs when the data are nearly identical. Results may be unreliable.\n",
      "  t_stat, p_value = stats.ttest_ind([avg_revenue_per_user_variant], [avg_revenue_per_user_control])\n",
      "c:\\Users\\clic\\AppData\\Local\\Programs\\Python\\Python310\\lib\\site-packages\\scipy\\stats\\_stats_py.py:1214: RuntimeWarning: divide by zero encountered in divide\n",
      "  var *= np.divide(n, n-ddof)  # to avoid error on division by zero\n",
      "c:\\Users\\clic\\AppData\\Local\\Programs\\Python\\Python310\\lib\\site-packages\\scipy\\stats\\_stats_py.py:1214: RuntimeWarning: invalid value encountered in scalar multiply\n",
      "  var *= np.divide(n, n-ddof)  # to avoid error on division by zero\n"
     ]
    }
   ],
   "source": [
    "import scipy.stats as stats\n",
    "\n",
    "# Данные\n",
    "revenue_variant = 351.47\n",
    "revenue_control = 643.0\n",
    "users_variant = 3934\n",
    "users_control = 3931\n",
    "\n",
    "# Средний доход на пользователя\n",
    "avg_revenue_per_user_variant = revenue_variant / users_variant\n",
    "avg_revenue_per_user_control = revenue_control / users_control\n",
    "\n",
    "# t-тест\n",
    "t_stat, p_value = stats.ttest_ind([avg_revenue_per_user_variant], [avg_revenue_per_user_control])\n",
    "\n",
    "# Уровень значимости (обычно выбирается 0.05)\n",
    "alpha = 0.05\n",
    "\n",
    "# Проверяем статистическую значимость\n",
    "if p_value < alpha:\n",
    "    print(\"Различие в среднем доходе на пользователя является статистически значимым.\")\n",
    "else:\n",
    "    print(\"Различие в среднем доходе на пользователя не является статистически значимым.\")\n"
   ]
  },
  {
   "cell_type": "markdown",
   "metadata": {},
   "source": [
    "Далее, можно провести аналогичные t-тесты для других метрик, таких как \"Конверсионная ставка\":"
   ]
  },
  {
   "cell_type": "code",
   "execution_count": 3,
   "metadata": {},
   "outputs": [
    {
     "name": "stdout",
     "output_type": "stream",
     "text": [
      "Различие в конверсионной ставке не является статистически значимым.\n"
     ]
    },
    {
     "name": "stderr",
     "output_type": "stream",
     "text": [
      "C:\\Users\\clic\\AppData\\Local\\Temp\\ipykernel_240\\3655120701.py:6: RuntimeWarning: Precision loss occurred in moment calculation due to catastrophic cancellation. This occurs when the data are nearly identical. Results may be unreliable.\n",
      "  t_stat, p_value = stats.ttest_ind([conversion_rate_variant], [conversion_rate_control])\n"
     ]
    }
   ],
   "source": [
    "# Конверсионная ставка\n",
    "conversion_rate_variant = 0.014354066985645933\n",
    "conversion_rate_control = 0.016051364365971106\n",
    "\n",
    "# t-тест\n",
    "t_stat, p_value = stats.ttest_ind([conversion_rate_variant], [conversion_rate_control])\n",
    "\n",
    "# Проверяем статистическую значимость\n",
    "if p_value < alpha:\n",
    "    print(\"Различие в конверсионной ставке является статистически значимым.\")\n",
    "else:\n",
    "    print(\"Различие в конверсионной ставке не является статистически значимым.\")\n"
   ]
  },
  {
   "cell_type": "markdown",
   "metadata": {},
   "source": [
    "### Рекомендации:\n",
    "\n",
    "1. Конверсионная ставка: \n",
    "* Различие в конверсионной ставке между группами варианта и контроля не является статистически значимым. Это означает, что на текущем этапе нет оснований полагать, что одна группа превосходит другую.\n",
    "\n",
    "2. Средний доход на пользователя: \n",
    "* Различие в среднем доходе на пользователя между группами варианта и контроля также не является статистически значимым. Это нам говорит о том, что на текущем этапе нет оснований утверждать, что одна группа показывает значимо лучшие результаты по среднему доходу на пользователя.\n",
    "\n",
    "Основываясь на этих результатах, рекомендуется продолжить мониторинг и тестирование различных вариантов, чтобы получить более значимые результаты. Кроме того, рекомендуется увеличить выборку пользователей для увеличения статистической мощности и точности анализа. Стоит обратить внимание на то, что общий доход в группе контроля значительно превосходит общий доход в группе варианта.\n",
    "На данный момент нет оснований считать, что одна из групп явно превосходит другую. Рекомендуется провести дополнительные исследования и тестирования для более надежных выводов."
   ]
  }
 ],
 "metadata": {
  "kernelspec": {
   "display_name": "Python 3",
   "language": "python",
   "name": "python3"
  },
  "language_info": {
   "codemirror_mode": {
    "name": "ipython",
    "version": 3
   },
   "file_extension": ".py",
   "mimetype": "text/x-python",
   "name": "python",
   "nbconvert_exporter": "python",
   "pygments_lexer": "ipython3",
   "version": "3.10.0"
  },
  "orig_nbformat": 4
 },
 "nbformat": 4,
 "nbformat_minor": 2
}
